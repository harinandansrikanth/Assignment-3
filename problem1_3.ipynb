{
 "cells": [
  {
   "cell_type": "code",
   "execution_count": 2,
   "metadata": {},
   "outputs": [
    {
     "name": "stdout",
     "output_type": "stream",
     "text": [
      "Enter a size: 5\n",
      "    1    \n",
      "   121   \n",
      "  12321  \n",
      " 1234321 \n",
      "123454321\n"
     ]
    }
   ],
   "source": [
    "n = int(input(\"Enter a size: \"))\n",
    "fin_len = (2*(n-1))+1\n",
    "max_num = 1\n",
    "while(max_num <= n):\n",
    "    str_tree = \" \" * fin_len\n",
    "    str_tree_list = list(str_tree)\n",
    "    str_tree_list[n-1] = str(max_num)\n",
    "    if max_num != 1:\n",
    "        index = 1\n",
    "        while index <= max_num-1:\n",
    "            str_tree_list[n-index-1] = str(max_num - index)\n",
    "            str_tree_list[n+index-1] = str(max_num - index)\n",
    "            index += 1 \n",
    "    str_tree_fin = \"\".join(tuple(str_tree_list))\n",
    "    print(str_tree_fin)\n",
    "    max_num += 1\n"
   ]
  },
  {
   "cell_type": "code",
   "execution_count": null,
   "metadata": {},
   "outputs": [],
   "source": []
  }
 ],
 "metadata": {
  "kernelspec": {
   "display_name": "Python 3",
   "language": "python",
   "name": "python3"
  },
  "language_info": {
   "codemirror_mode": {
    "name": "ipython",
    "version": 3
   },
   "file_extension": ".py",
   "mimetype": "text/x-python",
   "name": "python",
   "nbconvert_exporter": "python",
   "pygments_lexer": "ipython3",
   "version": "3.7.6"
  }
 },
 "nbformat": 4,
 "nbformat_minor": 4
}
