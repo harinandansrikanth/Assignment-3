{
 "cells": [
  {
   "cell_type": "code",
   "execution_count": 25,
   "metadata": {},
   "outputs": [
    {
     "name": "stdout",
     "output_type": "stream",
     "text": [
      "Enter your name: Srikanth\n",
      "Htnakirs\n"
     ]
    }
   ],
   "source": [
    "name = input(\"Enter your name: \")\n",
    "i = -1\n",
    "reverse_ls = [\"\"]*len(name)\n",
    "while(i >= -len(name)):\n",
    "    if i == -1:\n",
    "        reverse_ls[-(i+1)] = name[i].upper()\n",
    "    elif i == -len(name):\n",
    "        reverse_ls[-(i+1)] = name[i].lower()\n",
    "    else:\n",
    "        reverse_ls[-(i+1)] = name[i]\n",
    "    i -= 1\n",
    "backwards = \"\".join(tuple(reverse_ls))\n",
    "print(backwards)\n",
    "if backwards == name:\n",
    "    print(\"Palindrome!\")"
   ]
  },
  {
   "cell_type": "code",
   "execution_count": null,
   "metadata": {},
   "outputs": [],
   "source": []
  },
  {
   "cell_type": "code",
   "execution_count": null,
   "metadata": {},
   "outputs": [],
   "source": []
  }
 ],
 "metadata": {
  "kernelspec": {
   "display_name": "Python 3",
   "language": "python",
   "name": "python3"
  },
  "language_info": {
   "codemirror_mode": {
    "name": "ipython",
    "version": 3
   },
   "file_extension": ".py",
   "mimetype": "text/x-python",
   "name": "python",
   "nbconvert_exporter": "python",
   "pygments_lexer": "ipython3",
   "version": "3.7.6"
  }
 },
 "nbformat": 4,
 "nbformat_minor": 4
}
