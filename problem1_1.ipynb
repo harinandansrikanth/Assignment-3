{
 "cells": [
  {
   "cell_type": "code",
   "execution_count": 7,
   "metadata": {},
   "outputs": [
    {
     "name": "stdout",
     "output_type": "stream",
     "text": [
      "Please enter your income: 1500\n",
      "100.0\n"
     ]
    }
   ],
   "source": [
    "income = int(input(\"Please enter your income: \"))\n",
    "tax = 0\n",
    "if(income <= 1000):\n",
    "    tax += income*0.05\n",
    "elif(income <= 2000):\n",
    "    tax += 1000*0.05 + (income-1000)*0.1\n",
    "else:\n",
    "    tax += 1000*0.05 + 1000*0.1 + (income-2000)*0.15\n",
    "print(tax)   \n",
    "    "
   ]
  },
  {
   "cell_type": "code",
   "execution_count": null,
   "metadata": {},
   "outputs": [],
   "source": []
  },
  {
   "cell_type": "code",
   "execution_count": null,
   "metadata": {},
   "outputs": [],
   "source": []
  },
  {
   "cell_type": "code",
   "execution_count": null,
   "metadata": {},
   "outputs": [],
   "source": []
  }
 ],
 "metadata": {
  "kernelspec": {
   "display_name": "Python 3",
   "language": "python",
   "name": "python3"
  },
  "language_info": {
   "codemirror_mode": {
    "name": "ipython",
    "version": 3
   },
   "file_extension": ".py",
   "mimetype": "text/x-python",
   "name": "python",
   "nbconvert_exporter": "python",
   "pygments_lexer": "ipython3",
   "version": "3.7.6"
  }
 },
 "nbformat": 4,
 "nbformat_minor": 4
}
